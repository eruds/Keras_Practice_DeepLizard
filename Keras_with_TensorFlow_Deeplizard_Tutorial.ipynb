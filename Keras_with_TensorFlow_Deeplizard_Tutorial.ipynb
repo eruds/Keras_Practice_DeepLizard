{
  "nbformat": 4,
  "nbformat_minor": 0,
  "metadata": {
    "colab": {
      "name": "Keras with TensorFlow - Deeplizard Tutorial",
      "provenance": [],
      "authorship_tag": "ABX9TyMf9pbKJMyydq0g/uzucos3",
      "include_colab_link": true
    },
    "kernelspec": {
      "name": "python3",
      "display_name": "Python 3"
    },
    "language_info": {
      "name": "python"
    }
  },
  "cells": [
    {
      "cell_type": "markdown",
      "metadata": {
        "id": "view-in-github",
        "colab_type": "text"
      },
      "source": [
        "<a href=\"https://colab.research.google.com/github/eruds/Keras_Practice_DeepLizard/blob/master/Keras_with_TensorFlow_Deeplizard_Tutorial.ipynb\" target=\"_parent\"><img src=\"https://colab.research.google.com/assets/colab-badge.svg\" alt=\"Open In Colab\"/></a>"
      ]
    },
    {
      "cell_type": "code",
      "execution_count": 1,
      "metadata": {
        "id": "Y-7Ov6xc7fK8"
      },
      "outputs": [],
      "source": [
        "import tensorflow as tf\n",
        "from tensorflow import keras"
      ]
    }
  ]
}