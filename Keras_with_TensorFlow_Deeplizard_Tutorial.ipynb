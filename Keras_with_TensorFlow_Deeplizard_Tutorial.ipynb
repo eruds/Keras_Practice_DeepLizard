{
  "nbformat": 4,
  "nbformat_minor": 0,
  "metadata": {
    "colab": {
      "name": "Keras with TensorFlow - Deeplizard Tutorial",
      "provenance": [],
      "authorship_tag": "ABX9TyMR2DvVPle2FBD2bZXUD8Ar",
      "include_colab_link": true
    },
    "kernelspec": {
      "name": "python3",
      "display_name": "Python 3"
    },
    "language_info": {
      "name": "python"
    }
  },
  "cells": [
    {
      "cell_type": "markdown",
      "metadata": {
        "id": "view-in-github",
        "colab_type": "text"
      },
      "source": [
        "<a href=\"https://colab.research.google.com/github/eruds/Keras_Practice_DeepLizard/blob/master/Keras_with_TensorFlow_Deeplizard_Tutorial.ipynb\" target=\"_parent\"><img src=\"https://colab.research.google.com/assets/colab-badge.svg\" alt=\"Open In Colab\"/></a>"
      ]
    },
    {
      "cell_type": "code",
      "source": [
        "import numpy as np\n",
        "from random import randint\n",
        "from sklearn.utils import shuffle\n",
        "from sklearn.preprocessing import MinMaxScaler"
      ],
      "metadata": {
        "id": "5OlUwvDCH70u"
      },
      "execution_count": 1,
      "outputs": []
    },
    {
      "cell_type": "code",
      "source": [
        "# Random Data Generation \n",
        "train_labels = []\n",
        "train_samples = []\n",
        "for i in range(50):\n",
        "    # The ~5% of younger individuals who did experience side effects\n",
        "    random_younger = randint(13,64)\n",
        "    train_samples.append(random_younger)\n",
        "    train_labels.append(1)\n",
        "\n",
        "    # The ~5% of older individuals who did not experience side effects\n",
        "    random_older = randint(65,100)\n",
        "    train_samples.append(random_older)\n",
        "    train_labels.append(0)\n",
        "\n",
        "for i in range(1000):\n",
        "    # The ~95% of younger individuals who did not experience side effects\n",
        "    random_younger = randint(13,64)\n",
        "    train_samples.append(random_younger)\n",
        "    train_labels.append(0)\n",
        "\n",
        "    # The ~95% of older individuals who did experience side effects\n",
        "    random_older = randint(65,100)\n",
        "    train_samples.append(random_older)\n",
        "    train_labels.append(1)"
      ],
      "metadata": {
        "id": "2g6OzMaiIB6p"
      },
      "execution_count": 2,
      "outputs": []
    },
    {
      "cell_type": "code",
      "source": [
        "# Processing the Data\n",
        "train_labels = np.array(train_labels)\n",
        "train_samples = np.array(train_samples)\n",
        "train_labels, train_samples = shuffle(train_labels, train_samples)\n",
        "\n",
        "# Scale data range into between 0 to 1 \n",
        "scaler = MinMaxScaler(feature_range=(0,1))\n",
        "scaled_train_samples = scaler.fit_transform(train_samples.reshape(-1,1))"
      ],
      "metadata": {
        "id": "lBWNSPNeILuB"
      },
      "execution_count": 3,
      "outputs": []
    },
    {
      "cell_type": "code",
      "execution_count": 4,
      "metadata": {
        "id": "Y-7Ov6xc7fK8"
      },
      "outputs": [],
      "source": [
        "import tensorflow as tf\n",
        "from tensorflow import keras\n",
        "from keras.models import Sequential \n",
        "from keras.layers import Activation, Dense\n",
        "# from keras.optimizers import Adam\n",
        "from keras.metrics import categorical_crossentropy"
      ]
    },
    {
      "cell_type": "code",
      "source": [
        ""
      ],
      "metadata": {
        "id": "z9Q3OZPpFrtk"
      },
      "execution_count": 4,
      "outputs": []
    },
    {
      "cell_type": "code",
      "source": [
        "# Explicitly defining hidden layers \n",
        "# All number are arbitrary\n",
        "model = Sequential ([\n",
        "      Dense( units = 16, input_shape=(1,), activation='relu'), \n",
        "      Dense( units = 32, activation='relu'),\n",
        "      Dense( units = 2, activation=\"softmax\")\n",
        "])\n"
      ],
      "metadata": {
        "id": "XfM7D9WTFw6Y"
      },
      "execution_count": 5,
      "outputs": []
    },
    {
      "cell_type": "code",
      "source": [
        "model.summary()"
      ],
      "metadata": {
        "colab": {
          "base_uri": "https://localhost:8080/"
        },
        "id": "UUiSr7KEGlhW",
        "outputId": "237d65cc-c509-4259-b544-e176b106e46f"
      },
      "execution_count": 6,
      "outputs": [
        {
          "output_type": "stream",
          "name": "stdout",
          "text": [
            "Model: \"sequential\"\n",
            "_________________________________________________________________\n",
            " Layer (type)                Output Shape              Param #   \n",
            "=================================================================\n",
            " dense (Dense)               (None, 16)                32        \n",
            "                                                                 \n",
            " dense_1 (Dense)             (None, 32)                544       \n",
            "                                                                 \n",
            " dense_2 (Dense)             (None, 2)                 66        \n",
            "                                                                 \n",
            "=================================================================\n",
            "Total params: 642\n",
            "Trainable params: 642\n",
            "Non-trainable params: 0\n",
            "_________________________________________________________________\n"
          ]
        }
      ]
    },
    {
      "cell_type": "code",
      "source": [
        "# Getting the model ready for training \n",
        "model.compile(optimizer=keras.optimizers.Adam(learning_rate=0.0001), loss='sparse_categorical_crossentropy', metrics=['accuracy'])"
      ],
      "metadata": {
        "id": "wF5J9PJgIY5l"
      },
      "execution_count": 7,
      "outputs": []
    },
    {
      "cell_type": "code",
      "source": [
        "# Train the model \n",
        "# Batch Size is choosen arbritrary \n",
        "# Epoch means how many times the model will train on each data in the set. \n",
        "model.fit(x=scaled_train_samples, y=train_labels, batch_size=10, epochs=30, shuffle=True, verbose=1)"
      ],
      "metadata": {
        "id": "Hbvm3l6jIsbm",
        "colab": {
          "base_uri": "https://localhost:8080/"
        },
        "outputId": "9ec3ecd8-50d0-4ab4-b5e0-7d29d79b455c"
      },
      "execution_count": 8,
      "outputs": [
        {
          "output_type": "stream",
          "name": "stdout",
          "text": [
            "Epoch 1/30\n",
            "210/210 [==============================] - 2s 3ms/step - loss: 0.6812 - accuracy: 0.5800\n",
            "Epoch 2/30\n",
            "210/210 [==============================] - 1s 3ms/step - loss: 0.6543 - accuracy: 0.6871\n",
            "Epoch 3/30\n",
            "210/210 [==============================] - 1s 4ms/step - loss: 0.6260 - accuracy: 0.7462\n",
            "Epoch 4/30\n",
            "210/210 [==============================] - 1s 3ms/step - loss: 0.6018 - accuracy: 0.7543\n",
            "Epoch 5/30\n",
            "210/210 [==============================] - 0s 2ms/step - loss: 0.5777 - accuracy: 0.7676\n",
            "Epoch 6/30\n",
            "210/210 [==============================] - 0s 2ms/step - loss: 0.5533 - accuracy: 0.7843\n",
            "Epoch 7/30\n",
            "210/210 [==============================] - 1s 3ms/step - loss: 0.5287 - accuracy: 0.8010\n",
            "Epoch 8/30\n",
            "210/210 [==============================] - 1s 3ms/step - loss: 0.5045 - accuracy: 0.8229\n",
            "Epoch 9/30\n",
            "210/210 [==============================] - 1s 3ms/step - loss: 0.4811 - accuracy: 0.8348\n",
            "Epoch 10/30\n",
            "210/210 [==============================] - 1s 3ms/step - loss: 0.4587 - accuracy: 0.8519\n",
            "Epoch 11/30\n",
            "210/210 [==============================] - 1s 3ms/step - loss: 0.4376 - accuracy: 0.8657\n",
            "Epoch 12/30\n",
            "210/210 [==============================] - 1s 3ms/step - loss: 0.4183 - accuracy: 0.8705\n",
            "Epoch 13/30\n",
            "210/210 [==============================] - 1s 3ms/step - loss: 0.4003 - accuracy: 0.8795\n",
            "Epoch 14/30\n",
            "210/210 [==============================] - 1s 3ms/step - loss: 0.3842 - accuracy: 0.8890\n",
            "Epoch 15/30\n",
            "210/210 [==============================] - 1s 4ms/step - loss: 0.3698 - accuracy: 0.8933\n",
            "Epoch 16/30\n",
            "210/210 [==============================] - 1s 3ms/step - loss: 0.3568 - accuracy: 0.8952\n",
            "Epoch 17/30\n",
            "210/210 [==============================] - 1s 4ms/step - loss: 0.3453 - accuracy: 0.9090\n",
            "Epoch 18/30\n",
            "210/210 [==============================] - 0s 2ms/step - loss: 0.3352 - accuracy: 0.9095\n",
            "Epoch 19/30\n",
            "210/210 [==============================] - 0s 2ms/step - loss: 0.3263 - accuracy: 0.9129\n",
            "Epoch 20/30\n",
            "210/210 [==============================] - 0s 2ms/step - loss: 0.3184 - accuracy: 0.9157\n",
            "Epoch 21/30\n",
            "210/210 [==============================] - 0s 2ms/step - loss: 0.3115 - accuracy: 0.9190\n",
            "Epoch 22/30\n",
            "210/210 [==============================] - 0s 2ms/step - loss: 0.3052 - accuracy: 0.9190\n",
            "Epoch 23/30\n",
            "210/210 [==============================] - 0s 2ms/step - loss: 0.2998 - accuracy: 0.9190\n",
            "Epoch 24/30\n",
            "210/210 [==============================] - 0s 2ms/step - loss: 0.2950 - accuracy: 0.9233\n",
            "Epoch 25/30\n",
            "210/210 [==============================] - 0s 2ms/step - loss: 0.2908 - accuracy: 0.9319\n",
            "Epoch 26/30\n",
            "210/210 [==============================] - 0s 2ms/step - loss: 0.2869 - accuracy: 0.9319\n",
            "Epoch 27/30\n",
            "210/210 [==============================] - 0s 1ms/step - loss: 0.2836 - accuracy: 0.9319\n",
            "Epoch 28/30\n",
            "210/210 [==============================] - 0s 2ms/step - loss: 0.2806 - accuracy: 0.9329\n",
            "Epoch 29/30\n",
            "210/210 [==============================] - 0s 2ms/step - loss: 0.2780 - accuracy: 0.9324\n",
            "Epoch 30/30\n",
            "210/210 [==============================] - 0s 1ms/step - loss: 0.2755 - accuracy: 0.9343\n"
          ]
        },
        {
          "output_type": "execute_result",
          "data": {
            "text/plain": [
              "<keras.callbacks.History at 0x7f37c3c95890>"
            ]
          },
          "metadata": {},
          "execution_count": 8
        }
      ]
    },
    {
      "cell_type": "code",
      "source": [
        "# Building validation set \n",
        "# The goal is to avoid the overfitting problem \n",
        "model.fit(x=scaled_train_samples, y=train_labels, validation_split=0.1, batch_size=10, epochs=30, shuffle=True, verbose=2)"
      ],
      "metadata": {
        "id": "5QVrc0fnJY8X",
        "colab": {
          "base_uri": "https://localhost:8080/"
        },
        "outputId": "9cdcc4ad-09c9-40dc-c35f-6083c000d6b5"
      },
      "execution_count": 9,
      "outputs": [
        {
          "output_type": "stream",
          "name": "stdout",
          "text": [
            "Epoch 1/30\n",
            "189/189 - 0s - loss: 0.2779 - accuracy: 0.9333 - val_loss: 0.2312 - val_accuracy: 0.9381 - 484ms/epoch - 3ms/step\n",
            "Epoch 2/30\n",
            "189/189 - 0s - loss: 0.2761 - accuracy: 0.9317 - val_loss: 0.2289 - val_accuracy: 0.9476 - 272ms/epoch - 1ms/step\n",
            "Epoch 3/30\n",
            "189/189 - 0s - loss: 0.2746 - accuracy: 0.9370 - val_loss: 0.2268 - val_accuracy: 0.9476 - 279ms/epoch - 1ms/step\n",
            "Epoch 4/30\n",
            "189/189 - 0s - loss: 0.2730 - accuracy: 0.9365 - val_loss: 0.2248 - val_accuracy: 0.9476 - 322ms/epoch - 2ms/step\n",
            "Epoch 5/30\n",
            "189/189 - 0s - loss: 0.2718 - accuracy: 0.9370 - val_loss: 0.2230 - val_accuracy: 0.9476 - 280ms/epoch - 1ms/step\n",
            "Epoch 6/30\n",
            "189/189 - 0s - loss: 0.2704 - accuracy: 0.9370 - val_loss: 0.2210 - val_accuracy: 0.9476 - 285ms/epoch - 2ms/step\n",
            "Epoch 7/30\n",
            "189/189 - 0s - loss: 0.2694 - accuracy: 0.9370 - val_loss: 0.2195 - val_accuracy: 0.9476 - 275ms/epoch - 1ms/step\n",
            "Epoch 8/30\n",
            "189/189 - 0s - loss: 0.2683 - accuracy: 0.9370 - val_loss: 0.2183 - val_accuracy: 0.9476 - 328ms/epoch - 2ms/step\n",
            "Epoch 9/30\n",
            "189/189 - 0s - loss: 0.2672 - accuracy: 0.9370 - val_loss: 0.2163 - val_accuracy: 0.9476 - 311ms/epoch - 2ms/step\n",
            "Epoch 10/30\n",
            "189/189 - 0s - loss: 0.2661 - accuracy: 0.9370 - val_loss: 0.2151 - val_accuracy: 0.9476 - 315ms/epoch - 2ms/step\n",
            "Epoch 11/30\n",
            "189/189 - 0s - loss: 0.2652 - accuracy: 0.9370 - val_loss: 0.2139 - val_accuracy: 0.9476 - 332ms/epoch - 2ms/step\n",
            "Epoch 12/30\n",
            "189/189 - 0s - loss: 0.2644 - accuracy: 0.9376 - val_loss: 0.2132 - val_accuracy: 0.9476 - 310ms/epoch - 2ms/step\n",
            "Epoch 13/30\n",
            "189/189 - 0s - loss: 0.2635 - accuracy: 0.9376 - val_loss: 0.2116 - val_accuracy: 0.9476 - 325ms/epoch - 2ms/step\n",
            "Epoch 14/30\n",
            "189/189 - 0s - loss: 0.2626 - accuracy: 0.9370 - val_loss: 0.2102 - val_accuracy: 0.9476 - 285ms/epoch - 2ms/step\n",
            "Epoch 15/30\n",
            "189/189 - 0s - loss: 0.2619 - accuracy: 0.9370 - val_loss: 0.2093 - val_accuracy: 0.9476 - 317ms/epoch - 2ms/step\n",
            "Epoch 16/30\n",
            "189/189 - 0s - loss: 0.2612 - accuracy: 0.9402 - val_loss: 0.2082 - val_accuracy: 0.9476 - 275ms/epoch - 1ms/step\n",
            "Epoch 17/30\n",
            "189/189 - 0s - loss: 0.2605 - accuracy: 0.9376 - val_loss: 0.2074 - val_accuracy: 0.9476 - 286ms/epoch - 2ms/step\n",
            "Epoch 18/30\n",
            "189/189 - 0s - loss: 0.2598 - accuracy: 0.9381 - val_loss: 0.2072 - val_accuracy: 0.9571 - 327ms/epoch - 2ms/step\n",
            "Epoch 19/30\n",
            "189/189 - 0s - loss: 0.2591 - accuracy: 0.9392 - val_loss: 0.2056 - val_accuracy: 0.9476 - 310ms/epoch - 2ms/step\n",
            "Epoch 20/30\n",
            "189/189 - 0s - loss: 0.2586 - accuracy: 0.9370 - val_loss: 0.2049 - val_accuracy: 0.9476 - 328ms/epoch - 2ms/step\n",
            "Epoch 21/30\n",
            "189/189 - 0s - loss: 0.2582 - accuracy: 0.9376 - val_loss: 0.2041 - val_accuracy: 0.9476 - 295ms/epoch - 2ms/step\n",
            "Epoch 22/30\n",
            "189/189 - 0s - loss: 0.2576 - accuracy: 0.9392 - val_loss: 0.2033 - val_accuracy: 0.9476 - 326ms/epoch - 2ms/step\n",
            "Epoch 23/30\n",
            "189/189 - 0s - loss: 0.2570 - accuracy: 0.9376 - val_loss: 0.2031 - val_accuracy: 0.9571 - 322ms/epoch - 2ms/step\n",
            "Epoch 24/30\n",
            "189/189 - 0s - loss: 0.2567 - accuracy: 0.9429 - val_loss: 0.2020 - val_accuracy: 0.9571 - 346ms/epoch - 2ms/step\n",
            "Epoch 25/30\n",
            "189/189 - 0s - loss: 0.2562 - accuracy: 0.9402 - val_loss: 0.2013 - val_accuracy: 0.9571 - 285ms/epoch - 2ms/step\n",
            "Epoch 26/30\n",
            "189/189 - 0s - loss: 0.2558 - accuracy: 0.9423 - val_loss: 0.2002 - val_accuracy: 0.9476 - 287ms/epoch - 2ms/step\n",
            "Epoch 27/30\n",
            "189/189 - 0s - loss: 0.2555 - accuracy: 0.9392 - val_loss: 0.1996 - val_accuracy: 0.9476 - 306ms/epoch - 2ms/step\n",
            "Epoch 28/30\n",
            "189/189 - 0s - loss: 0.2551 - accuracy: 0.9407 - val_loss: 0.1992 - val_accuracy: 0.9571 - 310ms/epoch - 2ms/step\n",
            "Epoch 29/30\n",
            "189/189 - 0s - loss: 0.2547 - accuracy: 0.9407 - val_loss: 0.1991 - val_accuracy: 0.9571 - 274ms/epoch - 1ms/step\n",
            "Epoch 30/30\n",
            "189/189 - 0s - loss: 0.2543 - accuracy: 0.9429 - val_loss: 0.1976 - val_accuracy: 0.9476 - 327ms/epoch - 2ms/step\n"
          ]
        },
        {
          "output_type": "execute_result",
          "data": {
            "text/plain": [
              "<keras.callbacks.History at 0x7f37c049ce50>"
            ]
          },
          "metadata": {},
          "execution_count": 9
        }
      ]
    },
    {
      "cell_type": "code",
      "source": [
        "# Making Test Sets\n",
        "test_labels =  []\n",
        "test_samples = []\n",
        "\n",
        "for i in range(10):\n",
        "    # The 5% of younger individuals who did experience side effects\n",
        "    random_younger = randint(13,64)\n",
        "    test_samples.append(random_younger)\n",
        "    test_labels.append(1)\n",
        "\n",
        "    # The 5% of older individuals who did not experience side effects\n",
        "    random_older = randint(65,100)\n",
        "    test_samples.append(random_older)\n",
        "    test_labels.append(0)\n",
        "\n",
        "for i in range(200):\n",
        "    # The 95% of younger individuals who did not experience side effects\n",
        "    random_younger = randint(13,64)\n",
        "    test_samples.append(random_younger)\n",
        "    test_labels.append(0)\n",
        "\n",
        "    # The 95% of older individuals who did experience side effects\n",
        "    random_older = randint(65,100)\n",
        "    test_samples.append(random_older)\n",
        "    test_labels.append(1)\n",
        "\n",
        "test_labels = np.array(test_labels)\n",
        "test_samples = np.array(test_samples)\n",
        "test_labels, test_samples = shuffle(test_labels, test_samples)\n",
        "\n",
        "scaled_test_samples = scaler.fit_transform(test_samples.reshape(-1,1))"
      ],
      "metadata": {
        "id": "ExKZrKikLDnZ"
      },
      "execution_count": 10,
      "outputs": []
    },
    {
      "cell_type": "code",
      "source": [
        "# Predict the test data\n",
        "predictions = model.predict(x=scaled_test_samples, batch_size=10, verbose=0)"
      ],
      "metadata": {
        "id": "78cH0yPvMYxc"
      },
      "execution_count": 11,
      "outputs": []
    },
    {
      "cell_type": "code",
      "source": [
        "# Rounded Prediction => Shows more binary result rather than probability \n",
        "rounded_predictions = np.argmax(predictions, axis=-1)"
      ],
      "metadata": {
        "id": "ZHI7xKgnm5M2"
      },
      "execution_count": 14,
      "outputs": []
    },
    {
      "cell_type": "code",
      "source": [
        "# Confusion Matrix\n",
        "%matplotlib inline\n",
        "from sklearn.metrics import confusion_matrix\n",
        "import itertools\n",
        "import matplotlib.pyplot as plt\n",
        "\n",
        "cm = confusion_matrix(y_true=test_labels, y_pred=rounded_predictions)"
      ],
      "metadata": {
        "id": "ob7EJE_vMY2q"
      },
      "execution_count": 15,
      "outputs": []
    },
    {
      "cell_type": "code",
      "source": [
        "# Define plot confusion matrix function \n",
        "def plot_confusion_matrix(cm, classes,\n",
        "                        normalize=False,\n",
        "                        title='Confusion matrix',\n",
        "                        cmap=plt.cm.Blues):\n",
        "    \"\"\"\n",
        "    This function prints and plots the confusion matrix.\n",
        "    Normalization can be applied by setting `normalize=True`.\n",
        "    \"\"\"\n",
        "    plt.imshow(cm, interpolation='nearest', cmap=cmap)\n",
        "    plt.title(title)\n",
        "    plt.colorbar()\n",
        "    tick_marks = np.arange(len(classes))\n",
        "    plt.xticks(tick_marks, classes, rotation=45)\n",
        "    plt.yticks(tick_marks, classes)\n",
        "\n",
        "    if normalize:\n",
        "        cm = cm.astype('float') / cm.sum(axis=1)[:, np.newaxis]\n",
        "        print(\"Normalized confusion matrix\")\n",
        "    else:\n",
        "        print('Confusion matrix, without normalization')\n",
        "\n",
        "    print(cm)\n",
        "\n",
        "    thresh = cm.max() / 2.\n",
        "    for i, j in itertools.product(range(cm.shape[0]), range(cm.shape[1])):\n",
        "        plt.text(j, i, cm[i, j],\n",
        "            horizontalalignment=\"center\",\n",
        "            color=\"white\" if cm[i, j] > thresh else \"black\")\n",
        "\n",
        "    plt.tight_layout()\n",
        "    plt.ylabel('True label')\n",
        "    plt.xlabel('Predicted label')\n"
      ],
      "metadata": {
        "id": "9VY1v3Halg_P"
      },
      "execution_count": 19,
      "outputs": []
    },
    {
      "cell_type": "code",
      "source": [
        "cm_plot_labels = ['no_side_effects','had_side_effects']\n",
        "plot_confusion_matrix(cm=cm, classes=cm_plot_labels, title='Confusion Matrix')"
      ],
      "metadata": {
        "colab": {
          "base_uri": "https://localhost:8080/",
          "height": 363
        },
        "id": "duzyB3HcnUl0",
        "outputId": "3373159a-523d-4d6a-d3ac-1480eff6f8f1"
      },
      "execution_count": 18,
      "outputs": [
        {
          "output_type": "stream",
          "name": "stdout",
          "text": [
            "Confusion matrix, without normalization\n",
            "[[196  14]\n",
            " [ 10 200]]\n"
          ]
        },
        {
          "output_type": "display_data",
          "data": {
            "image/png": "[encoded data removed]",
            "text/plain": [
              "<Figure size 432x288 with 2 Axes>"
            ]
          },
          "metadata": {
            "needs_background": "light"
          }
        }
      ]
    },
    {
      "cell_type": "code",
      "source": [
        "# Saving and Loading a model \n",
        "model.summary()"
      ],
      "metadata": {
        "colab": {
          "base_uri": "https://localhost:8080/"
        },
        "id": "7n7h9VANneTN",
        "outputId": "44403c58-561b-4e47-d963-3311bf2d35c3"
      },
      "execution_count": 20,
      "outputs": [
        {
          "output_type": "stream",
          "name": "stdout",
          "text": [
            "Model: \"sequential\"\n",
            "_________________________________________________________________\n",
            " Layer (type)                Output Shape              Param #   \n",
            "=================================================================\n",
            " dense (Dense)               (None, 16)                32        \n",
            "                                                                 \n",
            " dense_1 (Dense)             (None, 32)                544       \n",
            "                                                                 \n",
            " dense_2 (Dense)             (None, 2)                 66        \n",
            "                                                                 \n",
            "=================================================================\n",
            "Total params: 642\n",
            "Trainable params: 642\n",
            "Non-trainable params: 0\n",
            "_________________________________________________________________\n"
          ]
        }
      ]
    },
    {
      "cell_type": "code",
      "source": [
        "# 1. Model.save()\n",
        "# Checks first to see if file exist already \n",
        "# If not, the model is saved to disk \n",
        "import os.path\n",
        "if os.path.isfile('models/medical_trial_model.h5') is False :\n",
        "  model.save('models/medical_trial_model.h5')"
      ],
      "metadata": {
        "id": "eBVmaVwVnuNw"
      },
      "execution_count": 21,
      "outputs": []
    },
    {
      "cell_type": "code",
      "source": [
        "# Load Model \n",
        "from keras.models import load_model\n",
        "new_model = load_model('models/medical_trial_model.h5')\n",
        "# Check loaded model weights and architecture\n",
        "new_model.summary()\n",
        "new_model.weights\n",
        "new_model.optimizer\n",
        "new_model.loss"
      ],
      "metadata": {
        "colab": {
          "base_uri": "https://localhost:8080/"
        },
        "id": "8EWvO-cboAZO",
        "outputId": "94d0d80d-a31c-49a6-f0bd-f8d5d9bd0b3b"
      },
      "execution_count": 26,
      "outputs": [
        {
          "output_type": "stream",
          "name": "stdout",
          "text": [
            "Model: \"sequential\"\n",
            "_________________________________________________________________\n",
            " Layer (type)                Output Shape              Param #   \n",
            "=================================================================\n",
            " dense (Dense)               (None, 16)                32        \n",
            "                                                                 \n",
            " dense_1 (Dense)             (None, 32)                544       \n",
            "                                                                 \n",
            " dense_2 (Dense)             (None, 2)                 66        \n",
            "                                                                 \n",
            "=================================================================\n",
            "Total params: 642\n",
            "Trainable params: 642\n",
            "Non-trainable params: 0\n",
            "_________________________________________________________________\n"
          ]
        },
        {
          "output_type": "execute_result",
          "data": {
            "text/plain": [
              "<function keras.losses.sparse_categorical_crossentropy>"
            ]
          },
          "metadata": {},
          "execution_count": 26
        }
      ]
    },
    {
      "cell_type": "code",
      "source": [
        "# 2. Model to JSON => Only the architecture\n",
        "# Can also do the same thing with YAML string \n",
        "import json\n",
        "json_string = model.to_json()\n",
        "json_string = model.to_json(indent=4)\n",
        "\n",
        "with open('json_data.json', 'w') as outfile:\n",
        "    outfile.write(json_string)"
      ],
      "metadata": {
        "id": "K0qDZwQ4oaRA"
      },
      "execution_count": 33,
      "outputs": []
    },
    {
      "cell_type": "code",
      "source": [
        "# Load model from JSON\n",
        "from keras.models import model_from_json\n",
        "model_architecture = model_from_json(json_string)\n",
        "model_architecture.summary()"
      ],
      "metadata": {
        "id": "bL80JBAbsXnN"
      },
      "execution_count": null,
      "outputs": []
    },
    {
      "cell_type": "code",
      "source": [
        "# 3. Saving only the weigths\n",
        "model.save_weights('models/my_model_weights.h5')\n",
        "# Loading the weight into another model with the same architecture\n",
        "model2 = Sequential([\n",
        "    Dense(units=16, input_shape=(1,), activation='relu'),\n",
        "    Dense(units=32, activation='relu'),\n",
        "    Dense(units=2, activation='softmax')\n",
        "])\n",
        "model2.weights\n",
        "model2.load_weights('models/my_model_weights.h5')\n",
        "model2.weights"
      ],
      "metadata": {
        "id": "nnrVwy2Zsx0a"
      },
      "execution_count": null,
      "outputs": []
    }
  ]
}